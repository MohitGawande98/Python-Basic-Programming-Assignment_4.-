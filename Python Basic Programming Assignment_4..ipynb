{
 "cells": [
  {
   "cell_type": "markdown",
   "metadata": {},
   "source": [
    "# Python Basic Programming Assignment_4."
   ]
  },
  {
   "cell_type": "raw",
   "metadata": {},
   "source": [
    "1. Write a Python Program to Find the Factorial of a Number?"
   ]
  },
  {
   "cell_type": "code",
   "execution_count": 7,
   "metadata": {},
   "outputs": [
    {
     "name": "stdout",
     "output_type": "stream",
     "text": [
      "Enter the number:5\n",
      "The factorial of 5 is 120\n"
     ]
    }
   ],
   "source": [
    "n=int(input(\"Enter the number:\"))\n",
    "fact=1\n",
    "if n>0:\n",
    "    for i in range(1,n+1):\n",
    "        fact=fact*i\n",
    "    print(\"The factorial of\",n,\"is\", fact)\n",
    "elif n<0:\n",
    "    print(\"Negative value factors does not exist.\")\n",
    "else:\n",
    "    print(\"The factorial of 0 is 1\")"
   ]
  },
  {
   "cell_type": "raw",
   "metadata": {},
   "source": [
    "2. Write a Python Program to Display the multiplication Table?"
   ]
  },
  {
   "cell_type": "code",
   "execution_count": 7,
   "metadata": {},
   "outputs": [
    {
     "name": "stdout",
     "output_type": "stream",
     "text": [
      "Enter the number:5\n",
      "5 X 1 = 5\n",
      "5 X 2 = 10\n",
      "5 X 3 = 15\n",
      "5 X 4 = 20\n",
      "5 X 5 = 25\n",
      "5 X 6 = 30\n",
      "5 X 7 = 35\n",
      "5 X 8 = 40\n",
      "5 X 9 = 45\n",
      "5 X 10 = 50\n"
     ]
    }
   ],
   "source": [
    "n=int(input(\"Enter the number:\"))\n",
    "for i in range(1,11):\n",
    "    table=i*n\n",
    "    print(n ,\"X\", i ,\"=\", table)"
   ]
  },
  {
   "cell_type": "raw",
   "metadata": {},
   "source": [
    "3. Write a Python Program to Print the Fibonacci sequence?"
   ]
  },
  {
   "cell_type": "code",
   "execution_count": 2,
   "metadata": {},
   "outputs": [
    {
     "name": "stdout",
     "output_type": "stream",
     "text": [
      "Enter the Number:5\n",
      "0  1  1  2  3  5  "
     ]
    }
   ],
   "source": [
    "n=int(input(\"Enter the Number:\"))\n",
    "f1=0\n",
    "f2=1\n",
    "while (f1<=n):\n",
    "    print(f1,\" \", end=\"\")\n",
    "    f=f1+f2\n",
    "    f1=f2\n",
    "    f2=f"
   ]
  },
  {
   "cell_type": "raw",
   "metadata": {},
   "source": [
    "4. Write a Python Program to Check Armstrong Number?"
   ]
  },
  {
   "cell_type": "code",
   "execution_count": 8,
   "metadata": {},
   "outputs": [
    {
     "name": "stdout",
     "output_type": "stream",
     "text": [
      "Enter the number:153\n",
      "The Number is Armstrong.\n"
     ]
    }
   ],
   "source": [
    "num=int(input(\"Enter the number:\"))\n",
    "org=num\n",
    "res=0\n",
    "\n",
    "while (num>0):\n",
    "    d=num%10\n",
    "    res=res+d**3\n",
    "    num=num//10\n",
    "if org==res:\n",
    "    print(\"The Number is Armstrong.\")\n",
    "else:\n",
    "    print(\"The Number is not Armstrong.\")"
   ]
  },
  {
   "cell_type": "raw",
   "metadata": {},
   "source": [
    "5. Write a Python Program to Find Armstrong Number in an Interval?"
   ]
  },
  {
   "cell_type": "code",
   "execution_count": 12,
   "metadata": {},
   "outputs": [
    {
     "name": "stdout",
     "output_type": "stream",
     "text": [
      "The Number is not Armstrong.\n"
     ]
    }
   ],
   "source": [
    "for i in range(1,1000):\n",
    "    org=i\n",
    "    res=0\n",
    "\n",
    "while (i>0):\n",
    "    d=i%10\n",
    "    res=res+d**3\n",
    "    i=i//10\n",
    "if org==res:\n",
    "    print(i)\n",
    "else:\n",
    "    print(\"The Number is not Armstrong.\")"
   ]
  },
  {
   "cell_type": "raw",
   "metadata": {},
   "source": [
    "6. Write a Python Program to Find the Sum of Natural Numbers?"
   ]
  },
  {
   "cell_type": "code",
   "execution_count": 3,
   "metadata": {},
   "outputs": [
    {
     "name": "stdout",
     "output_type": "stream",
     "text": [
      "Enter the number:15\n",
      "The sum is 120\n"
     ]
    }
   ],
   "source": [
    "n=int(input(\"Enter the number:\"))\n",
    "if n<0:\n",
    "    print(\"Enter the positive number.\")\n",
    "else:\n",
    "    sum=0\n",
    "    while (n>0):\n",
    "        sum=sum+n\n",
    "        n=n-1\n",
    "    print(\"The sum is\",sum)\n",
    "    "
   ]
  },
  {
   "cell_type": "code",
   "execution_count": null,
   "metadata": {},
   "outputs": [],
   "source": []
  }
 ],
 "metadata": {
  "kernelspec": {
   "display_name": "Python 3",
   "language": "python",
   "name": "python3"
  },
  "language_info": {
   "codemirror_mode": {
    "name": "ipython",
    "version": 3
   },
   "file_extension": ".py",
   "mimetype": "text/x-python",
   "name": "python",
   "nbconvert_exporter": "python",
   "pygments_lexer": "ipython3",
   "version": "3.7.1"
  }
 },
 "nbformat": 4,
 "nbformat_minor": 2
}
